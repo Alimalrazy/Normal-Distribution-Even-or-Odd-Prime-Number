{
  "nbformat": 4,
  "nbformat_minor": 0,
  "metadata": {
    "colab": {
      "provenance": []
    },
    "kernelspec": {
      "name": "python3",
      "display_name": "Python 3"
    },
    "language_info": {
      "name": "python"
    }
  },
  "cells": [
    {
      "cell_type": "markdown",
      "source": [
        "Create a function <br>\n",
        "   i) You have to create 2 separate variable for normal random values with a range of 100 <br>\n",
        "   ii) Then separate both even and odd values from those stored varables <br>\n",
        "   iii) Then find the prime number <br>\n",
        "   iv) Calculate the total prime number"
      ],
      "metadata": {
        "id": "ZRe9DkVnF2OX"
      }
    },
    {
      "cell_type": "markdown",
      "source": [
        "## Importing Libraries"
      ],
      "metadata": {
        "id": "RgihBDlOh5b0"
      }
    },
    {
      "cell_type": "code",
      "source": [
        "import math\n",
        "import numpy as np\n",
        "from numpy import random\n",
        "import seaborn as sns\n",
        "from numpy.random import randn"
      ],
      "metadata": {
        "id": "f1ZUQpuxHfzO"
      },
      "execution_count": 1,
      "outputs": []
    },
    {
      "cell_type": "markdown",
      "source": [
        "## 1. creating 2 separate variable for normal random values with a range of 100"
      ],
      "metadata": {
        "id": "4-9jCAs1k0mC"
      }
    },
    {
      "cell_type": "code",
      "source": [
        "rand1 = random.normal(loc=50, scale=20, size=(100))\n",
        "rand1=[abs(int(x)) for x in rand1]\n",
        "\n",
        "rand2 = random.normal(loc=50, scale=20, size=(100))\n",
        "rand2=[abs(int(x)) for x in rand2]\n",
        "\n",
        "print(rand1)\n",
        "print(rand2)"
      ],
      "metadata": {
        "colab": {
          "base_uri": "https://localhost:8080/"
        },
        "id": "9D-oM-eiKs-o",
        "outputId": "63381629-67b3-4a1c-faaa-fb51a837488b"
      },
      "execution_count": 2,
      "outputs": [
        {
          "output_type": "stream",
          "name": "stdout",
          "text": [
            "[43, 13, 40, 58, 55, 65, 55, 40, 53, 23, 24, 39, 30, 41, 53, 31, 45, 49, 24, 22, 26, 65, 45, 35, 32, 64, 57, 48, 39, 79, 45, 65, 75, 46, 55, 75, 55, 45, 55, 86, 60, 26, 31, 42, 62, 45, 6, 77, 5, 21, 35, 96, 19, 87, 36, 83, 53, 38, 64, 58, 29, 44, 62, 30, 67, 51, 38, 65, 68, 57, 26, 64, 25, 64, 77, 32, 23, 77, 18, 51, 34, 90, 24, 43, 51, 53, 82, 58, 52, 28, 14, 25, 61, 75, 42, 47, 43, 54, 65, 47]\n",
            "[71, 14, 38, 0, 66, 35, 74, 59, 61, 76, 64, 62, 42, 32, 43, 45, 19, 75, 42, 59, 27, 28, 61, 19, 19, 53, 26, 32, 36, 59, 23, 45, 49, 75, 29, 53, 51, 101, 44, 56, 10, 22, 51, 55, 48, 57, 48, 40, 61, 43, 55, 66, 89, 64, 62, 89, 28, 68, 24, 52, 35, 75, 59, 39, 57, 48, 27, 36, 20, 50, 80, 37, 41, 61, 48, 29, 75, 65, 18, 29, 59, 34, 67, 54, 59, 80, 58, 49, 40, 58, 52, 59, 70, 39, 53, 24, 76, 40, 44, 78]\n"
          ]
        }
      ]
    },
    {
      "cell_type": "markdown",
      "source": [
        "## Checking whether it is normal distribution or not\n"
      ],
      "metadata": {
        "id": "5csy4o4Vnb9e"
      }
    },
    {
      "cell_type": "code",
      "source": [
        "sns.distplot(rand1)"
      ],
      "metadata": {
        "colab": {
          "base_uri": "https://localhost:8080/",
          "height": 339
        },
        "id": "cxGw6dmtnTOU",
        "outputId": "e06de2c1-21da-448e-c0be-f283a7b12054"
      },
      "execution_count": 3,
      "outputs": [
        {
          "output_type": "stream",
          "name": "stderr",
          "text": [
            "/usr/local/lib/python3.8/dist-packages/seaborn/distributions.py:2619: FutureWarning: `distplot` is a deprecated function and will be removed in a future version. Please adapt your code to use either `displot` (a figure-level function with similar flexibility) or `histplot` (an axes-level function for histograms).\n",
            "  warnings.warn(msg, FutureWarning)\n"
          ]
        },
        {
          "output_type": "execute_result",
          "data": {
            "text/plain": [
              "<matplotlib.axes._subplots.AxesSubplot at 0x7fe55d2cb280>"
            ]
          },
          "metadata": {},
          "execution_count": 3
        },
        {
          "output_type": "display_data",
          "data": {
            "text/plain": [
              "<Figure size 432x288 with 1 Axes>"
            ],
            "image/png": "[encoded data removed]"
          },
          "metadata": {
            "needs_background": "light"
          }
        }
      ]
    },
    {
      "cell_type": "code",
      "source": [
        "sns.distplot(rand2)"
      ],
      "metadata": {
        "colab": {
          "base_uri": "https://localhost:8080/",
          "height": 339
        },
        "id": "JWaosFJOnlqe",
        "outputId": "b56539dd-927f-435d-bc8d-a8c2229fbb59"
      },
      "execution_count": 4,
      "outputs": [
        {
          "output_type": "stream",
          "name": "stderr",
          "text": [
            "/usr/local/lib/python3.8/dist-packages/seaborn/distributions.py:2619: FutureWarning: `distplot` is a deprecated function and will be removed in a future version. Please adapt your code to use either `displot` (a figure-level function with similar flexibility) or `histplot` (an axes-level function for histograms).\n",
            "  warnings.warn(msg, FutureWarning)\n"
          ]
        },
        {
          "output_type": "execute_result",
          "data": {
            "text/plain": [
              "<matplotlib.axes._subplots.AxesSubplot at 0x7fe56bb57880>"
            ]
          },
          "metadata": {},
          "execution_count": 4
        },
        {
          "output_type": "display_data",
          "data": {
            "text/plain": [
              "<Figure size 432x288 with 1 Axes>"
            ],
            "image/png": "[encoded data removed]"
          },
          "metadata": {
            "needs_background": "light"
          }
        }
      ]
    },
    {
      "cell_type": "markdown",
      "source": [
        "## Creating 2 list for each variable rand1 and rand2, where all even and odd values of rand1 and rand2 will stay"
      ],
      "metadata": {
        "id": "zisZuY2VoIjl"
      }
    },
    {
      "cell_type": "code",
      "source": [
        "rand1_even=[]\n",
        "rand1_odd=[]\n",
        "\n",
        "rand2_even=[]\n",
        "rand2_odd=[]"
      ],
      "metadata": {
        "id": "VBcTfVO_Nsb2"
      },
      "execution_count": 5,
      "outputs": []
    },
    {
      "cell_type": "markdown",
      "source": [
        "## 2. Separating even and odd values"
      ],
      "metadata": {
        "id": "NyIoVa2uowIe"
      }
    },
    {
      "cell_type": "code",
      "source": [
        "for i in rand1:\n",
        "  if i%2==0:\n",
        "    rand1_even.append(i)\n",
        "  else:\n",
        "    rand1_odd.append(i)\n",
        "print(rand1_even)\n",
        "print(rand1_odd)"
      ],
      "metadata": {
        "colab": {
          "base_uri": "https://localhost:8080/"
        },
        "id": "5CLkJM8tPv6_",
        "outputId": "a29d817a-e5a1-463f-dbbb-687563816d92"
      },
      "execution_count": 6,
      "outputs": [
        {
          "output_type": "stream",
          "name": "stdout",
          "text": [
            "[40, 58, 40, 24, 30, 24, 22, 26, 32, 64, 48, 46, 86, 60, 26, 42, 62, 6, 96, 36, 38, 64, 58, 44, 62, 30, 38, 68, 26, 64, 64, 32, 18, 34, 90, 24, 82, 58, 52, 28, 14, 42, 54]\n",
            "[43, 13, 55, 65, 55, 53, 23, 39, 41, 53, 31, 45, 49, 65, 45, 35, 57, 39, 79, 45, 65, 75, 55, 75, 55, 45, 55, 31, 45, 77, 5, 21, 35, 19, 87, 83, 53, 29, 67, 51, 65, 57, 25, 77, 23, 77, 51, 43, 51, 53, 25, 61, 75, 47, 43, 65, 47]\n"
          ]
        }
      ]
    },
    {
      "cell_type": "code",
      "source": [
        "for i in rand2:\n",
        "  if i%2==0:\n",
        "    rand2_even.append(i)\n",
        "  else:\n",
        "    rand2_odd.append(i)\n",
        "print(rand2_even)\n",
        "print(rand2_odd)"
      ],
      "metadata": {
        "colab": {
          "base_uri": "https://localhost:8080/"
        },
        "id": "VYEXqbLRQsRA",
        "outputId": "7fd78dac-8e92-46ff-8b37-38f1bffd6fd7"
      },
      "execution_count": 7,
      "outputs": [
        {
          "output_type": "stream",
          "name": "stdout",
          "text": [
            "[14, 38, 0, 66, 74, 76, 64, 62, 42, 32, 42, 28, 26, 32, 36, 44, 56, 10, 22, 48, 48, 40, 66, 64, 62, 28, 68, 24, 52, 48, 36, 20, 50, 80, 48, 18, 34, 54, 80, 58, 40, 58, 52, 70, 24, 76, 40, 44, 78]\n",
            "[71, 35, 59, 61, 43, 45, 19, 75, 59, 27, 61, 19, 19, 53, 59, 23, 45, 49, 75, 29, 53, 51, 101, 51, 55, 57, 61, 43, 55, 89, 89, 35, 75, 59, 39, 57, 27, 37, 41, 61, 29, 75, 65, 29, 59, 67, 59, 49, 59, 39, 53]\n"
          ]
        }
      ]
    },
    {
      "cell_type": "markdown",
      "source": [
        "## Merging 2 lists for my convenience"
      ],
      "metadata": {
        "id": "UulvF3Vhqa9M"
      }
    },
    {
      "cell_type": "code",
      "source": [
        "rand_all=rand1+rand2\n",
        "print('rand_all:', rand_all)\n",
        "print('Number of rand_all value:', len(rand_all))"
      ],
      "metadata": {
        "colab": {
          "base_uri": "https://localhost:8080/"
        },
        "id": "HD5vQ5nVUnl9",
        "outputId": "6fdd0e66-2631-4d69-ef15-939f1443f62e"
      },
      "execution_count": 8,
      "outputs": [
        {
          "output_type": "stream",
          "name": "stdout",
          "text": [
            "rand_all: [43, 13, 40, 58, 55, 65, 55, 40, 53, 23, 24, 39, 30, 41, 53, 31, 45, 49, 24, 22, 26, 65, 45, 35, 32, 64, 57, 48, 39, 79, 45, 65, 75, 46, 55, 75, 55, 45, 55, 86, 60, 26, 31, 42, 62, 45, 6, 77, 5, 21, 35, 96, 19, 87, 36, 83, 53, 38, 64, 58, 29, 44, 62, 30, 67, 51, 38, 65, 68, 57, 26, 64, 25, 64, 77, 32, 23, 77, 18, 51, 34, 90, 24, 43, 51, 53, 82, 58, 52, 28, 14, 25, 61, 75, 42, 47, 43, 54, 65, 47, 71, 14, 38, 0, 66, 35, 74, 59, 61, 76, 64, 62, 42, 32, 43, 45, 19, 75, 42, 59, 27, 28, 61, 19, 19, 53, 26, 32, 36, 59, 23, 45, 49, 75, 29, 53, 51, 101, 44, 56, 10, 22, 51, 55, 48, 57, 48, 40, 61, 43, 55, 66, 89, 64, 62, 89, 28, 68, 24, 52, 35, 75, 59, 39, 57, 48, 27, 36, 20, 50, 80, 37, 41, 61, 48, 29, 75, 65, 18, 29, 59, 34, 67, 54, 59, 80, 58, 49, 40, 58, 52, 59, 70, 39, 53, 24, 76, 40, 44, 78]\n",
            "Number of rand_all value: 200\n"
          ]
        }
      ]
    },
    {
      "cell_type": "markdown",
      "source": [
        "## 3. Finding numbers which are prime and which are not prime"
      ],
      "metadata": {
        "id": "x9CU5dkpqpCk"
      }
    },
    {
      "cell_type": "code",
      "source": [
        "prime = []\n",
        "not_prime = []\n",
        "\n",
        "for i in rand_all:\n",
        "  c=0\n",
        "  for j in range(2, i):\n",
        "    if i == 1:\n",
        "      c+=1\n",
        "      break\n",
        "    if i%j==0:\n",
        "      c+=1\n",
        "  if c==0:\n",
        "    prime.append(i)\n",
        "  else:\n",
        "    not_prime.append(i)\n",
        "\n",
        "print('Prime Values are:', prime)\n",
        "print('Values which are not prime:', not_prime)"
      ],
      "metadata": {
        "colab": {
          "base_uri": "https://localhost:8080/"
        },
        "id": "awKpGw0vRnMg",
        "outputId": "3835f583-334c-4524-dfe4-dcfef75a16df"
      },
      "execution_count": 9,
      "outputs": [
        {
          "output_type": "stream",
          "name": "stdout",
          "text": [
            "Prime Values are: [43, 13, 53, 23, 41, 53, 31, 79, 31, 5, 19, 83, 53, 29, 67, 23, 43, 53, 61, 47, 43, 47, 71, 0, 59, 61, 43, 19, 59, 61, 19, 19, 53, 59, 23, 29, 53, 101, 61, 43, 89, 89, 59, 37, 41, 61, 29, 29, 59, 67, 59, 59, 53]\n",
            "Values which are not prime: [40, 58, 55, 65, 55, 40, 24, 39, 30, 45, 49, 24, 22, 26, 65, 45, 35, 32, 64, 57, 48, 39, 45, 65, 75, 46, 55, 75, 55, 45, 55, 86, 60, 26, 42, 62, 45, 6, 77, 21, 35, 96, 87, 36, 38, 64, 58, 44, 62, 30, 51, 38, 65, 68, 57, 26, 64, 25, 64, 77, 32, 77, 18, 51, 34, 90, 24, 51, 82, 58, 52, 28, 14, 25, 75, 42, 54, 65, 14, 38, 66, 35, 74, 76, 64, 62, 42, 32, 45, 75, 42, 27, 28, 26, 32, 36, 45, 49, 75, 51, 44, 56, 10, 22, 51, 55, 48, 57, 48, 40, 55, 66, 64, 62, 28, 68, 24, 52, 35, 75, 39, 57, 48, 27, 36, 20, 50, 80, 48, 75, 65, 18, 34, 54, 80, 58, 49, 40, 58, 52, 70, 39, 24, 76, 40, 44, 78]\n"
          ]
        }
      ]
    },
    {
      "cell_type": "markdown",
      "source": [
        "## 4. Calculating total prime number"
      ],
      "metadata": {
        "id": "K7AoRJzDq-ZW"
      }
    },
    {
      "cell_type": "code",
      "source": [
        "print('Total Prime Number is', len(prime))"
      ],
      "metadata": {
        "colab": {
          "base_uri": "https://localhost:8080/"
        },
        "id": "5NTckU8hYJI5",
        "outputId": "69bc9103-08f2-45bd-acbc-65d64a8bd108"
      },
      "execution_count": 10,
      "outputs": [
        {
          "output_type": "stream",
          "name": "stdout",
          "text": [
            "Total Prime Number is 53\n"
          ]
        }
      ]
    }
  ]
}